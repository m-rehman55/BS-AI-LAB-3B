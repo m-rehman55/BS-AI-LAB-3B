{
 "cells": [
  {
   "cell_type": "code",
   "execution_count": 1,
   "id": "78f8d930",
   "metadata": {},
   "outputs": [
    {
     "name": "stdout",
     "output_type": "stream",
     "text": [
      "Your node B is Remove.\n",
      "Your node D is Remove.\n",
      "Your node E is Remove.\n",
      "['B', 'D', 'E']\n"
     ]
    }
   ],
   "source": [
    "tree = {\n",
    "    'A': ['B', 'C'],\n",
    "    'B': ['D', 'E'],\n",
    "    'C': ['F'],\n",
    "    'D': [],\n",
    "    'E': [],\n",
    "    'F': ['G'],\n",
    "    'G': []\n",
    "}\n",
    "class DFS_Stack():\n",
    "    def __init__(self):\n",
    "        self.data = []\n",
    "    def push(self,x):\n",
    "        self.data.append(x)\n",
    "    def pop(self):\n",
    "        if len(self.data) > 0:\n",
    "            return self.data.pop()\n",
    "        else:\n",
    "            print(\"Your Data is Empty.\")\n",
    "def dfs():\n",
    "    visit_node = []\n",
    "    s = DFS_Stack()  \n",
    "    s.push(\"B\")\n",
    "    while len(s.data) > 0:\n",
    "        a = s.pop()\n",
    "        print(f\"Your node {a} is Remove.\")\n",
    "        if a not in visit_node:\n",
    "            visit_node.append(a)\n",
    "            for c in reversed (tree[a]):\n",
    "                s.push(c)\n",
    "                      \n",
    "    return visit_node\n",
    "print(dfs())                 "
   ]
  }
 ],
 "metadata": {
  "kernelspec": {
   "display_name": "base",
   "language": "python",
   "name": "python3"
  },
  "language_info": {
   "codemirror_mode": {
    "name": "ipython",
    "version": 3
   },
   "file_extension": ".py",
   "mimetype": "text/x-python",
   "name": "python",
   "nbconvert_exporter": "python",
   "pygments_lexer": "ipython3",
   "version": "3.12.4"
  }
 },
 "nbformat": 4,
 "nbformat_minor": 5
}
