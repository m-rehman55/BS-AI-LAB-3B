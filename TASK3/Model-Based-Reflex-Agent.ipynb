{
 "cells": [
  {
   "cell_type": "code",
   "execution_count": 6,
   "id": "ab09c5f2",
   "metadata": {},
   "outputs": [
    {
     "name": "stdout",
     "output_type": "stream",
     "text": [
      "lounge temp = 18 - heater on\n",
      "bed temp = 22 - heater off\n",
      "kitchen temp = 20 - heater on\n",
      "washroom temp = 24 - heater off\n",
      "............................................................\n",
      "History of steps:\n",
      "('lounge', 18, 'heater on')\n",
      "('bed', 22, 'heater off')\n",
      "('kitchen', 20, 'heater on')\n",
      "('washroom', 24, 'heater off')\n"
     ]
    }
   ],
   "source": [
    "class temp_Agent:\n",
    "    def __init__(self, set_temper):\n",
    "        self.set_temper = set_temper\n",
    "        self.Actions = []      \n",
    "        self.prev_Act = None      \n",
    "\n",
    "    def check_Temp(self, Temp):\n",
    "        return Temp\n",
    "\n",
    "    def Action(self, Temp, room):\n",
    "        if Temp < self.set_temper:\n",
    "            if self.prev_Act != \"ON\":\n",
    "                act = \"heater on\"\n",
    "                self.prev_Act = \"ON\"\n",
    "            else:\n",
    "                act = \"no change\"\n",
    "        else:\n",
    "            if self.prev_Act != \"OFF\":\n",
    "                act = \"heater off\"\n",
    "                self.prev_Act = \"OFF\"\n",
    "            else:\n",
    "                act = \"no change\"\n",
    "        self.Actions.append((room, Temp, act))\n",
    "        return act\n",
    "\n",
    "\n",
    "rooms = {\n",
    "    \"lounge\": 18,\n",
    "    \"bed\": 22,\n",
    "    \"kitchen\": 20,\n",
    "    \"washroom\": 24\n",
    "}\n",
    "\n",
    "req_Temp = 22\n",
    "ag = temp_Agent(req_Temp)\n",
    "\n",
    "for r, t in rooms.items():\n",
    "    ans = ag.Action(t, r)\n",
    "    print(r, \"temp =\", t, \"-\", ans)\n",
    "print(\"............................................................\")\n",
    "print(\"History of steps:\")\n",
    "for h in ag.Actions:\n",
    "    print(h)\n"
   ]
  }
 ],
 "metadata": {
  "kernelspec": {
   "display_name": "base",
   "language": "python",
   "name": "python3"
  },
  "language_info": {
   "codemirror_mode": {
    "name": "ipython",
    "version": 3
   },
   "file_extension": ".py",
   "mimetype": "text/x-python",
   "name": "python",
   "nbconvert_exporter": "python",
   "pygments_lexer": "ipython3",
   "version": "3.12.4"
  }
 },
 "nbformat": 4,
 "nbformat_minor": 5
}
