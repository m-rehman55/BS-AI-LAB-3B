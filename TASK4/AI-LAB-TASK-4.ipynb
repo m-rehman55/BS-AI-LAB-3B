{
 "cells": [
  {
   "cell_type": "markdown",
   "id": "498f15f7",
   "metadata": {},
   "source": [
    "## 1.\t*Code for LUHN Algorithm.*"
   ]
  },
  {
   "cell_type": "code",
   "execution_count": 3,
   "id": "83ae33be",
   "metadata": {},
   "outputs": [
    {
     "name": "stdout",
     "output_type": "stream",
     "text": [
      "5893804115457289 is a Valid card number\n"
     ]
    }
   ],
   "source": [
    "def luhn_check(card_num):\n",
    "    dig_check = int(card_num[-1])\n",
    "    digits = card_num[:-1]\n",
    "\n",
    "    rev_digits = digits[::-1]\n",
    "\n",
    "    tot = 0\n",
    "    for i, ch in enumerate(rev_digits):\n",
    "        n = int(ch)\n",
    "        if i % 2 == 0:\n",
    "            n = n * 2\n",
    "            if n > 9:\n",
    "                n = n - 9\n",
    "        tot += n\n",
    "\n",
    "    tot += dig_check\n",
    "    return tot % 10 == 0\n",
    "\n",
    "nums = \"5893804115457289\"\n",
    "if luhn_check(nums):\n",
    "    print(nums, \"is a Valid card number\")\n",
    "else:\n",
    "    print(nums, \"is Invalid\")\n"
   ]
  },
  {
   "cell_type": "markdown",
   "id": "4e4ca729",
   "metadata": {},
   "source": [
    "## Task 2: *Remove Punctuations from String.*"
   ]
  },
  {
   "cell_type": "code",
   "execution_count": 4,
   "id": "79349749",
   "metadata": {},
   "outputs": [
    {
     "name": "stdout",
     "output_type": "stream",
     "text": [
      "Original: Hello!!!--- How are you???\n",
      "Without Punctuations: Hello How are you\n"
     ]
    }
   ],
   "source": [
    "def remove_punct(line):\n",
    "    punct = '''!()-[]{};:'\",<>./?@#$%^&*_~'''\n",
    "    result = \"\"\n",
    "    for char in line:\n",
    "        if char not in punct:\n",
    "            result += char\n",
    "    return result\n",
    "text = \"Hello!!!--- How are you???\"\n",
    "clean = remove_punct(text)\n",
    "print(\"Original:\", text)\n",
    "print(\"Without Punctuations:\", clean)\n"
   ]
  },
  {
   "cell_type": "markdown",
   "id": "89f3ee78",
   "metadata": {},
   "source": [
    "## Task 3: *Sort Sentence in Alphabetical Order.*"
   ]
  },
  {
   "cell_type": "code",
   "execution_count": 5,
   "id": "90ea137f",
   "metadata": {},
   "outputs": [
    {
     "name": "stdout",
     "output_type": "stream",
     "text": [
      "org line: how arre YOU BRO?\n",
      "sorted a-z: aBehoOOrrRUwY\n"
     ]
    }
   ],
   "source": [
    "def alpha_sort(sent):\n",
    "    arr = []\n",
    "    for char in sent:\n",
    "        if (char >= 'A' and char <= 'Z') or (char >= 'a' and char <= 'z'):   \n",
    "            arr.append(char)\n",
    "    l = len(arr)\n",
    "    for i in range(l):\n",
    "        for j in range(0, l - i - 1):\n",
    "            c1 = arr[j].lower()    \n",
    "            c2 = arr[j+1].lower()\n",
    "            if c1 > c2:\n",
    "                t = arr[j]\n",
    "                arr[j] = arr[j+1]\n",
    "                arr[j+1] = t\n",
    "\n",
    "    answer = \"\"\n",
    "    for a in arr:\n",
    "        answer = answer + a\n",
    "    return answer\n",
    "\n",
    "\n",
    "text= \"how arre YOU BRO?\"\n",
    "\n",
    "result = alpha_sort(text)\n",
    "\n",
    "print(\"org line:\", text)\n",
    "print(\"sorted a-z:\", result)\n"
   ]
  }
 ],
 "metadata": {
  "kernelspec": {
   "display_name": "base",
   "language": "python",
   "name": "python3"
  },
  "language_info": {
   "codemirror_mode": {
    "name": "ipython",
    "version": 3
   },
   "file_extension": ".py",
   "mimetype": "text/x-python",
   "name": "python",
   "nbconvert_exporter": "python",
   "pygments_lexer": "ipython3",
   "version": "3.12.4"
  }
 },
 "nbformat": 4,
 "nbformat_minor": 5
}
