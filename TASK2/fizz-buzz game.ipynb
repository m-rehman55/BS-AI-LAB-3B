{
 "cells": [
  {
   "cell_type": "code",
   "execution_count": 13,
   "id": "5957cbee",
   "metadata": {},
   "outputs": [
    {
     "name": "stdout",
     "output_type": "stream",
     "text": [
      "Welcome to the FizzBuzz Game!\n",
      "Rules:\n",
      "- Say 'Fizz' if number divisible by 3\n",
      "- Say 'Buzz' if number divisible by 5\n",
      "- Say 'Fizz Buzz' if divisible by both 3 and 5\n",
      "- Otherwise, just say the number itself\n",
      "Game starts now!\n",
      "\n"
     ]
    }
   ],
   "source": [
    "print(\"Welcome to the FizzBuzz Game!\")\n",
    "print(\"Rules:\")\n",
    "print(\"- Say 'Fizz' if number divisible by 3\")\n",
    "print(\"- Say 'Buzz' if number divisible by 5\")\n",
    "print(\"- Say 'Fizz Buzz' if divisible by both 3 and 5\")\n",
    "print(\"- Otherwise, just say the number itself\")\n",
    "print(\"Game starts now!\\n\")"
   ]
  },
  {
   "cell_type": "code",
   "execution_count": 3,
   "id": "3ab17f42",
   "metadata": {},
   "outputs": [
    {
     "name": "stdout",
     "output_type": "stream",
     "text": [
      "correct\n",
      "Answer wrong:  1\n",
      "Game-Over\n",
      "Your total scores are: 1\n"
     ]
    }
   ],
   "source": [
    "score = 0\n",
    "n = 1\n",
    "def strip(s):\n",
    "    \n",
    "    i = 0\n",
    "    j = len(s) - 1\n",
    "    \n",
    "    while i <= j and s[i] == ' ':\n",
    "        i = i + 1\n",
    "    \n",
    "    while j >= i and s[j] == ' ':\n",
    "        j = j - 1\n",
    "    return s[i:j+1]\n",
    "\n",
    "while n <= 100:\n",
    "    \n",
    "    if n % 3 == 0 and n % 5 == 0:\n",
    "        corr = \"Fizz Buzz\"\n",
    "    elif n % 3 == 0:\n",
    "        corr = \"Fizz\"\n",
    "    elif n % 5 == 0:\n",
    "        corr = \"Buzz\"\n",
    "    else:\n",
    "        corr = str(n)\n",
    "\n",
    "    ans = input(\"Your turn for \" + str(n) + \": \")\n",
    "\n",
    "    if strip(ans) == corr:\n",
    "        print(\"correct\")\n",
    "        score = score + 1\n",
    "        num = num + 1 \n",
    "        continue\n",
    "    else:\n",
    "        print(\"Answer wrong:  \" + corr)\n",
    "        print(\"Game-Over\")\n",
    "        print(\"Your total scores are: \" + str(score))\n",
    "        break\n",
    "else:\n",
    "    print(\"Congratulation! you completed all 100 rounds.\")\n",
    "    print(\"Your total scores: \" + str(score))\n"
   ]
  }
 ],
 "metadata": {
  "kernelspec": {
   "display_name": "base",
   "language": "python",
   "name": "python3"
  },
  "language_info": {
   "codemirror_mode": {
    "name": "ipython",
    "version": 3
   },
   "file_extension": ".py",
   "mimetype": "text/x-python",
   "name": "python",
   "nbconvert_exporter": "python",
   "pygments_lexer": "ipython3",
   "version": "3.12.4"
  }
 },
 "nbformat": 4,
 "nbformat_minor": 5
}
